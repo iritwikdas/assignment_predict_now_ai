{
  "nbformat": 4,
  "nbformat_minor": 0,
  "metadata": {
    "colab": {
      "name": "Meta-labelling and the Triple Barrier Method Apple Stock",
      "provenance": [],
      "collapsed_sections": [],
      "include_colab_link": true
    },
    "kernelspec": {
      "name": "python3",
      "display_name": "Python 3"
    }
  },
  "cells": [
    {
      "cell_type": "markdown",
      "metadata": {
        "id": "view-in-github",
        "colab_type": "text"
      },
      "source": [
        "<a href=\"https://colab.research.google.com/github/iritwikdas/assignment_predict_now_ai/blob/main/Meta_labelling_and_the_Triple_Barrier_Method_Apple_Stock.ipynb\" target=\"_parent\"><img src=\"https://colab.research.google.com/assets/colab-badge.svg\" alt=\"Open In Colab\"/></a>"
      ]
    },
    {
      "cell_type": "markdown",
      "metadata": {
        "id": "EvB1LpsOkny7"
      },
      "source": [
        "# Flow of algorithm\n",
        "\n",
        "1. We will build a simple bollinger band strategy to identify long and short signals.\n",
        "\n",
        "2. We will then apply the Triple Barrier Method outline above to determine our triple barrier events. (Discussed in another python notebook in this repo)\n",
        "\n",
        "3. Then we will use forecasts from the primary model to generate meta-labels.\n",
        "\n",
        "4. Finally we will use a random forest algorithm on the meta-labels to filter the “Buy” and “Sell” signals and improve the overall precision of the model"
      ]
    },
    {
      "cell_type": "markdown",
      "metadata": {
        "id": "7TcmAAFaktFM"
      },
      "source": [
        "# Installing and Importing Requisite Packages (can skip this tab)\n",
        "\n",
        "\n"
      ]
    },
    {
      "cell_type": "code",
      "metadata": {
        "id": "k6s5ZC0eGEbW"
      },
      "source": [
        "# import standard libs\n",
        "from IPython.display import display\n",
        "from IPython.core.debugger import set_trace as bp\n",
        "from pathlib import PurePath, Path\n",
        "import sys\n",
        "import time\n",
        "import datetime as dt\n",
        "import multiprocessing as mp\n",
        "from datetime import datetime\n",
        "from collections import OrderedDict as od\n",
        "import re\n",
        "import os\n",
        "import json\n",
        "\n",
        "# import python scientific stack\n",
        "import pandas as pd\n",
        "import pandas_datareader.data as web\n",
        "from pandas import Timestamp\n",
        "pd.set_option('display.max_rows', 100)\n",
        "from dask import dataframe as dd\n",
        "from dask.diagnostics import ProgressBar\n",
        "pbar = ProgressBar()\n",
        "pbar.register()\n",
        "import numpy as np\n",
        "import scipy.stats as stats\n",
        "import statsmodels.api as sm\n",
        "from numba import jit\n",
        "import math\n",
        "import pymc3 as pm\n",
        "from theano import shared, theano as tt\n",
        "from sklearn.utils import resample\n",
        "from sklearn.utils import shuffle\n",
        "from sklearn.tree import DecisionTreeClassifier\n",
        "from sklearn.ensemble import RandomForestClassifier, RandomForestRegressor, BaggingClassifier\n",
        "from sklearn.model_selection import train_test_split\n",
        "from sklearn.metrics import classification_report\n",
        "from sklearn.metrics import confusion_matrix\n",
        "from sklearn.metrics import accuracy_score\n",
        "from sklearn.metrics import roc_curve, auc\n",
        "\n",
        "from itertools import cycle\n",
        "from scipy import interp\n",
        "\n",
        "# import visual tools\n",
        "import matplotlib as mpl\n",
        "import matplotlib.pyplot as plt\n",
        "import matplotlib.gridspec as gridspec\n",
        "%matplotlib inline\n",
        "import seaborn as sns\n",
        "import plotly\n",
        "import plotly.graph_objects as go\n",
        "from plotly.subplots import make_subplots\n",
        "\n",
        "plt.style.use('seaborn-talk')\n",
        "plt.style.use('bmh')\n",
        "\n",
        "\n",
        "plt.rcParams['font.weight'] = 'medium'\n",
        "blue, green, red, purple, gold, teal = sns.color_palette('colorblind', 6)\n",
        "\n",
        "import pyarrow as pa\n",
        "import pyarrow.parquet as pq\n",
        "from tqdm import tqdm, tqdm_notebook\n",
        "import warnings\n",
        "warnings.filterwarnings(\"ignore\")\n",
        "import missingno as msno\n",
        "from google.colab import drive"
      ],
      "execution_count": 77,
      "outputs": []
    },
    {
      "cell_type": "markdown",
      "metadata": {
        "id": "ygEk0V7eYQji"
      },
      "source": [
        "# Defining some generic functions required (can skip this tab)"
      ]
    },
    {
      "cell_type": "code",
      "metadata": {
        "id": "d1sMKQFweckO"
      },
      "source": [
        "class MultiProcessingFunctions:\n",
        "\t\"\"\" This static functions in this class enable multi-processing\"\"\"\n",
        "\tdef __init__(self):\n",
        "\t\tpass\n",
        "\n",
        "\t@staticmethod\n",
        "\tdef lin_parts(num_atoms, num_threads):\n",
        "\t\t\"\"\" This function partitions a list of atoms in subsets (molecules) of equal size.\n",
        "\t\tAn atom is a set of indivisible set of tasks.\n",
        "\t\t\"\"\"\n",
        "\n",
        "\t\t# partition of atoms with a single loop\n",
        "\t\tparts = np.linspace(0, num_atoms, min(num_threads, num_atoms) + 1)\n",
        "\t\tparts = np.ceil(parts).astype(int)\n",
        "\t\treturn parts\n",
        "\n",
        "\t@staticmethod\n",
        "\tdef nested_parts(num_atoms, num_threads, upper_triangle=False):\n",
        "\t\t\"\"\" This function enables parallelization of nested loops.\n",
        "\t\t\"\"\"\n",
        "\t\t# partition of atoms with an inner loop\n",
        "\t\tparts = []\n",
        "\t\tnum_threads_ = min(num_threads, num_atoms)\n",
        "\n",
        "\t\tfor num in range(num_threads_):\n",
        "\t\t\tpart = 1 + 4 * (parts[-1] ** 2 + parts[-1] + num_atoms * (num_atoms + 1.) / num_threads_)\n",
        "\t\t\tpart = (-1 + part ** .5) / 2.\n",
        "\t\t\tparts.append(part)\n",
        "\n",
        "\t\tparts = np.round(parts).astype(int)\n",
        "\n",
        "\t\tif upper_triangle:  # the first rows are heaviest\n",
        "\t\t\tparts = np.cumsum(np.diff(parts)[::-1])\n",
        "\t\t\tparts = np.append(np.array([0]), parts)\n",
        "\t\treturn parts\n",
        "\n",
        "\t@staticmethod\n",
        "\tdef mp_pandas_obj(func, pd_obj, num_threads=24, mp_batches=1, lin_mols=True, **kargs):\n",
        "\t\t\"\"\"\t\n",
        "\t\t:param func: (string) function to be parallelized\n",
        "\t\t:param pd_obj: (vector) Element 0, is name of argument used to pass the molecule;\n",
        "\t\t\t\t\t\tElement 1, is the list of atoms to be grouped into a molecule\n",
        "\t\t:param num_threads: (int) number of threads\n",
        "\t\t:param mp_batches: (int) number of batches\n",
        "\t\t:param lin_mols: (bool) Tells if the method should use linear or nested partitioning\n",
        "\t\t:param kargs: (var args)\n",
        "\t\t:return: (data frame) of results\n",
        "\t\t\"\"\"\n",
        "\n",
        "\t\tif lin_mols:\n",
        "\t\t\tparts = MultiProcessingFunctions.lin_parts(len(pd_obj[1]), num_threads * mp_batches)\n",
        "\t\telse:\n",
        "\t\t\tparts = MultiProcessingFunctions.nested_parts(len(pd_obj[1]), num_threads * mp_batches)\n",
        "\n",
        "\t\tjobs = []\n",
        "\t\tfor i in range(1, len(parts)):\n",
        "\t\t\tjob = {pd_obj[0]: pd_obj[1][parts[i - 1]:parts[i]], 'func': func}\n",
        "\t\t\tjob.update(kargs)\n",
        "\t\t\tjobs.append(job)\n",
        "\n",
        "\t\tif num_threads == 1:\n",
        "\t\t\tout = MultiProcessingFunctions.process_jobs_(jobs)\n",
        "\t\telse:\n",
        "\t\t\tout = MultiProcessingFunctions.process_jobs(jobs, num_threads=num_threads)\n",
        "\n",
        "\t\tif isinstance(out[0], pd.DataFrame):\n",
        "\t\t\tdf0 = pd.DataFrame()\n",
        "\t\telif isinstance(out[0], pd.Series):\n",
        "\t\t\tdf0 = pd.Series()\n",
        "\t\telse:\n",
        "\t\t\treturn out\n",
        "\n",
        "\t\tfor i in out:\n",
        "\t\t\tdf0 = df0.append(i)\n",
        "\n",
        "\t\tdf0 = df0.sort_index()\n",
        "\t\treturn df0\n",
        "\n",
        "\t@staticmethod\n",
        "\tdef process_jobs_(jobs):\n",
        "\t\t\"\"\" Run jobs sequentially, for debugging \"\"\"\n",
        "\t\tout = []\n",
        "\t\tfor job in jobs:\n",
        "\t\t\tout_ = MultiProcessingFunctions.expand_call(job)\n",
        "\t\t\tout.append(out_)\n",
        "\t\treturn out\n",
        "\n",
        "\t@staticmethod\n",
        "\tdef expand_call(kargs):\n",
        "\t\t\"\"\" Expand the arguments of a callback function, kargs['func'] \"\"\"\n",
        "\t\tfunc = kargs['func']\n",
        "\t\tdel kargs['func']\n",
        "\t\tout = func(**kargs)\n",
        "\t\treturn out\n",
        "\n",
        "\t@staticmethod\n",
        "\tdef report_progress(job_num, num_jobs, time0, task):\n",
        "\t\t# Report progress as asynch jobs are completed\n",
        "\n",
        "\t\tmsg = [float(job_num) / num_jobs, (time.time() - time0)/60.]\n",
        "\t\tmsg.append(msg[1] * (1/msg[0] - 1))\n",
        "\t\ttime_stamp = str(dt.datetime.fromtimestamp(time.time()))\n",
        "\n",
        "\t\tmsg = time_stamp + ' ' + str(round(msg[0]*100, 2)) + '% '+task+' done after ' + \\\n",
        "\t\t\tstr(round(msg[1], 2)) + ' minutes. Remaining ' + str(round(msg[2], 2)) + ' minutes.'\n",
        "\n",
        "\t\tif job_num < num_jobs:\n",
        "\t\t\tsys.stderr.write(msg+'\\r')\n",
        "\t\telse:\n",
        "\t\t\tsys.stderr.write(msg+'\\n')\n",
        "\n",
        "\t\treturn\n",
        "\n",
        "\t@staticmethod\n",
        "\tdef process_jobs(jobs, task=None, num_threads=24):\n",
        "\t\t\"\"\" Run in parallel. jobs must contain a 'func' callback, for expand_call\"\"\"\n",
        "\n",
        "\t\tif task is None:\n",
        "\t\t\ttask = jobs[0]['func'].__name__\n",
        "\n",
        "\t\tpool = mp.Pool(processes=num_threads)\n",
        "\t\t# outputs, out, time0 = pool.imap_unordered(MultiProcessingFunctions.expand_call,jobs),[],time.time()\n",
        "\t\toutputs = pool.imap_unordered(MultiProcessingFunctions.expand_call, jobs)\n",
        "\t\tout = []\n",
        "\t\ttime0 = time.time()\n",
        "\n",
        "\t\t# Process asyn output, report progress\n",
        "\t\tfor i, out_ in enumerate(outputs, 1):\n",
        "\t\t\tout.append(out_)\n",
        "\t\t\tMultiProcessingFunctions.report_progress(i, len(jobs), time0, task)\n",
        "\n",
        "\t\tpool.close()\n",
        "\t\tpool.join()  # this is needed to prevent memory leaks\n",
        "\t\treturn out"
      ],
      "execution_count": 78,
      "outputs": []
    },
    {
      "cell_type": "markdown",
      "metadata": {
        "id": "3BLsJSBvmSuF"
      },
      "source": [
        "# Daily Volatility\n",
        "\n",
        "Now we will calculate Daily Volatility in order to create dynamic thresholds.\n",
        "\n",
        "**Parameters:**\n",
        "* close: (data frame) Closing prices\n",
        "* lookback: (int) lookback period to compute volatility\n",
        "\n",
        "**Return/\"Output of the function\": **\n",
        "\n",
        "* (series) of daily volatility value\n",
        "    "
      ]
    },
    {
      "cell_type": "code",
      "metadata": {
        "id": "q9oyhWgHJbpa"
      },
      "source": [
        "def get_daily_vol(close, lookback=100):\n",
        "    \n",
        "    print('Calculating daily volatility for dynamic thresholds')\n",
        "    \n",
        "    df0 = close.index.searchsorted(close.index - pd.Timedelta(days=1))\n",
        "    df0 = df0[df0 > 0]\n",
        "    df0 = (pd.Series(close.index[df0 - 1], index=close.index[close.shape[0] - df0.shape[0]:]))\n",
        "        \n",
        "    df0 = close.loc[df0.index] / close.loc[df0.values].values - 1  # daily returns\n",
        "    df0 = df0.ewm(span=lookback).std()\n",
        "    return df0"
      ],
      "execution_count": 79,
      "outputs": []
    },
    {
      "cell_type": "markdown",
      "metadata": {
        "id": "1ZYwa6w3r6-g"
      },
      "source": [
        "# Creating Events/Triggers\n",
        "\n",
        "We need to create our own trigger to signal the beginning of each new window. For this, we define a new function called **get_t_events**.\n",
        "\n",
        "We will use **Symmetric CUSUM Filter** as a method for *detecting a shift in the mean value of a measured quantity away from a target value.*\n",
        "\n",
        "The filter is set up to utilize the daily volatility we derived above to determine the threshold for labelling an event.\n",
        "\n",
        "> *For example, if the average volatility is 3%, once the volatility exceeds 3% net change since our last event, we would generate a new event and reset our filter.*\n",
        "\n",
        "Below is a plot with samples observed.\n",
        "\n",
        "![1_08rzGUHOGrckyeA5W6QERw.png](data:image/png;base64,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)\n",
        "\n",
        "\n",
        "\n",
        "\n"
      ]
    },
    {
      "cell_type": "markdown",
      "metadata": {
        "id": "xQ1QQgrtxHo7"
      },
      "source": [
        "# CUSUM Filter"
      ]
    },
    {
      "cell_type": "code",
      "metadata": {
        "id": "zBxg-p1kW3Kn"
      },
      "source": [
        "def get_t_events(raw_price, threshold):\n",
        "    \n",
        "    print('Applying Symmetric CUSUM filter.')\n",
        "\n",
        "    t_events = []\n",
        "    s_pos = 0\n",
        "    s_neg = 0\n",
        "\n",
        "    # log returns\n",
        "    diff = np.log(raw_price).diff().dropna()\n",
        "\n",
        "    # Get event time stamps for the entire series\n",
        "    for i in tqdm(diff.index[1:]):\n",
        "        pos = float(s_pos + diff.loc[i])\n",
        "        neg = float(s_neg + diff.loc[i])\n",
        "        s_pos = max(0.0, pos)\n",
        "        s_neg = min(0.0, neg)\n",
        "\n",
        "        if s_neg < -threshold:\n",
        "            s_neg = 0\n",
        "            t_events.append(i)\n",
        "\n",
        "        elif s_pos > threshold:\n",
        "            s_pos = 0\n",
        "            t_events.append(i)\n",
        "\n",
        "    event_timestamps = pd.DatetimeIndex(t_events)\n",
        "    return event_timestamps"
      ],
      "execution_count": 80,
      "outputs": []
    },
    {
      "cell_type": "markdown",
      "metadata": {
        "id": "yEjWcYnKuSxg"
      },
      "source": [
        "# Vertical Barriers\n",
        "\n",
        "After obtaining the list of event timestamps, we define the function **add_vertical_barrier** to output ***a series of all the timestamps when the vertical barrier is reached***. \n",
        "\n",
        "Here we create an argument num_days to adjust the time duration (in days) we want the barrier to stay active. In regards to this assignment it is 5 days."
      ]
    },
    {
      "cell_type": "code",
      "metadata": {
        "id": "mAtItBi7HxbI"
      },
      "source": [
        "def add_vertical_barrier(t_events, close, num_days=5):\n",
        "    t1 = close.index.searchsorted(t_events + pd.Timedelta(days=num_days))\n",
        "    t1 = t1[t1 < close.shape[0]]\n",
        "    t1 = pd.Series(close.index[t1], index=t_events[:t1.shape[0]])  # NaNs at end\n",
        "    return t1"
      ],
      "execution_count": 81,
      "outputs": []
    },
    {
      "cell_type": "markdown",
      "metadata": {
        "id": "B63LBDPVvX2e"
      },
      "source": [
        "# Time of First Touch\n",
        "\n",
        "The function apply_pt_sl_on_t1 applies the triple barrier labels and outputs a dataframe with the timestamps at which each barrier was touched.\n",
        "We want to use the apply_pt_sl_on_t1 within the function get_events to incorporate the results of the previous functions. "
      ]
    },
    {
      "cell_type": "code",
      "metadata": {
        "id": "o9hqLRGbH1Og"
      },
      "source": [
        "def apply_pt_sl_on_t1(close, events, pt_sl, molecule):\n",
        "    \"\"\"\n",
        "    :param events: (series) of indices that signify \"events\" \n",
        "    :param pt_sl: (array) element 0, indicates the profit taking level; \n",
        "                          element 1 is stop loss level\n",
        "    :param molecule: (an array) a set of datetime index values for processing\n",
        "    \"\"\"\n",
        "    \n",
        "    # apply stop loss/profit taking, if it takes place before t1 (end of event)\n",
        "    events_ = events.loc[molecule]\n",
        "    out = events_[['t1']].copy(deep=True)\n",
        "    if pt_sl[0] > 0:\n",
        "        pt = pt_sl[0] * events_['trgt']\n",
        "    else:\n",
        "        pt = pd.Series(index=events.index)  # NaNs\n",
        "\n",
        "    if pt_sl[1] > 0:\n",
        "        sl = -pt_sl[1] * events_['trgt']\n",
        "    else:\n",
        "        sl = pd.Series(index=events.index)  # NaNs\n",
        "\n",
        "    for loc, t1 in events_['t1'].fillna(close.index[-1]).iteritems():\n",
        "        df0 = close[loc:t1]  # path prices\n",
        "        df0 = (df0 / close[loc] - 1) * events_.at[loc, 'side']  # path returns\n",
        "        out.loc[loc, 'sl'] = df0[df0 < sl[loc]].index.min()  # earliest stop loss\n",
        "        out.loc[loc, 'pt'] = df0[df0 > pt[loc]].index.min()  # earliest profit taking\n",
        "\n",
        "    return out"
      ],
      "execution_count": 82,
      "outputs": []
    },
    {
      "cell_type": "markdown",
      "metadata": {
        "id": "am_9pVnEyzTO"
      },
      "source": [
        "get_events also allows us the ability to incorporate the side of a bet (decided by a separate primary model) in order to effectively use profit-take and stop-loss limits."
      ]
    },
    {
      "cell_type": "markdown",
      "metadata": {
        "id": "RdHT9h9l-BkZ"
      },
      "source": [
        "\n",
        "```\n",
        "t_events: (series) of t_events. These are timestamps that will seed every triple barrier.\n",
        "\n",
        "pt_sl: (2 element array) element 0, indicates the profit taking level;element 1 is stop loss level. \n",
        "A non-negative float that sets the width of the two barriers. \n",
        "A 0 value means that the respective horizontal barrier will be disabled.\n",
        "\n",
        "target: (series) of values that are used (in conjunction with pt_sl)to determine the width of the barrier.\n",
        "\n",
        "min_ret: (float) The minimum target return required for running a triple barrier search.\n",
        "\n",
        "num_threads: (int) The number of threads concurrently used by the function.\n",
        "\n",
        "vertical_barrier_times: (series) A pandas series with the timestamps of the vertical barriers.\n",
        "\n",
        "side: (series) Side of the bet (long/short) as decided by the primary model\n",
        "\n",
        "return: (data frame) of events\n",
        "            -events.index is event's starttime\n",
        "            -events['t1'] is event's endtime\n",
        "            -events['trgt'] is event's target\n",
        "            -events['side'] (optional) implies the algo's position side\n",
        "\n",
        "```\n",
        "\n",
        "\n"
      ]
    },
    {
      "cell_type": "code",
      "metadata": {
        "id": "DfSf2AXdH4uL"
      },
      "source": [
        "def get_events(close, t_events, pt_sl, target, min_ret, num_threads, \n",
        "              vertical_barrier_times=False, side=None):\n",
        "    \n",
        "    # 1) Get target\n",
        "    target = target.loc[target.index.intersection(t_events)]\n",
        "    target = target[target > min_ret]  # min_ret\n",
        "\n",
        "    # 2) Get vertical barrier (max holding period)\n",
        "    if vertical_barrier_times is False:\n",
        "        vertical_barrier_times = pd.Series(pd.NaT, index=t_events)\n",
        "\n",
        "    # 3) Form events object, apply stop loss on vertical barrier\n",
        "    if side is None:\n",
        "        side_ = pd.Series(1., index=target.index)\n",
        "        pt_sl_ = [pt_sl[0], pt_sl[0]]\n",
        "    else:\n",
        "        side_ = side.loc[target.index]\n",
        "        pt_sl_ = pt_sl[:2]\n",
        "\n",
        "    events = pd.concat({'t1': vertical_barrier_times, 'trgt': target, 'side': side_},\n",
        "                        axis=1)\n",
        "    events = events.dropna(subset=['trgt'])\n",
        "\n",
        "    # Apply Triple Barrier\n",
        "    df0 = MultiProcessingFunctions.mp_pandas_obj(func=apply_pt_sl_on_t1,\n",
        "                                                 pd_obj=('molecule', events.index),\n",
        "                                                 num_threads=num_threads,\n",
        "                                                 close=close,\n",
        "                                                 events=events,\n",
        "                                                 pt_sl=pt_sl_)\n",
        "\n",
        "    events['t1'] = df0.dropna(how='all').min(axis=1)  # pd.min ignores nan\n",
        "\n",
        "    if side is None:\n",
        "        events = events.drop('side', axis=1)\n",
        "\n",
        "    return events"
      ],
      "execution_count": 83,
      "outputs": []
    },
    {
      "cell_type": "markdown",
      "metadata": {
        "id": "uK27u02p-xPx"
      },
      "source": [
        "# Checking if Top/Bottom/Vertical Barrier is touched\n",
        "\n"
      ]
    },
    {
      "cell_type": "code",
      "metadata": {
        "id": "pwgOeAKfmomo"
      },
      "source": [
        "def barrier_touched(out_df):\n",
        "    store = []\n",
        "    for i in np.arange(len(out_df)):\n",
        "        date_time = out_df.index[i]\n",
        "        ret = out_df.loc[date_time, 'ret']\n",
        "        target = out_df.loc[date_time, 'trgt']\n",
        "\n",
        "        if ret > 0.0 and ret > target:\n",
        "            # Top barrier reached\n",
        "            store.append(1)\n",
        "        elif ret < 0.0 and ret < -target:\n",
        "            # Bottom barrier reached\n",
        "            store.append(-1)\n",
        "        else:\n",
        "            # Vertical barrier reached\n",
        "            store.append(0)\n",
        "\n",
        "    out_df['bin'] = store\n",
        "\n",
        "    return out_df"
      ],
      "execution_count": 84,
      "outputs": []
    },
    {
      "cell_type": "markdown",
      "metadata": {
        "id": "cdCVkZZo6OBS"
      },
      "source": [
        "# Metalabelling"
      ]
    },
    {
      "cell_type": "markdown",
      "metadata": {
        "id": "fnvvEoey60RZ"
      },
      "source": [
        "We’ll then use a new function ***get_bins*** to meta-label each event with a 0 or a 1 based on whether or not the primary model achieved the correct prediction.\n",
        "\n",
        "1. You can think about this logic like this:\n",
        "If our primary model (side) indicated a position and our return at the end of the triple barrier event was positive, we would label that “bin” as a 1 (true positive).\n",
        "\n",
        "2. If our primary model (side) indicated a position and our return at the end of the triple barrier event was negative, we would label that “bin” as a 0 (false positive)."
      ]
    },
    {
      "cell_type": "markdown",
      "metadata": {
        "id": "fe5LCM7C5m8d"
      },
      "source": [
        "\n",
        "     triple_barrier_events: (data frame)\n",
        "                -events.index is event's starttime\n",
        "                -events['t1'] is event's endtime\n",
        "                -events['trgt'] is event's target\n",
        "                -events['side'] (optional) implies the algo's position side\n",
        "                \n",
        "                Case 1: ('side' not in events): bin in (-1,1) <-label by price action\n",
        "                Case 2: ('side' in events): bin in (0,1) <-label by pnl (meta-labeling)\n",
        "     \n",
        "      return: (data frame) of meta-labeled events\n",
        "    "
      ]
    },
    {
      "cell_type": "code",
      "metadata": {
        "id": "G93v7IztYsLi"
      },
      "source": [
        "def get_bins(triple_barrier_events, close):\n",
        "    \n",
        "\n",
        "    # 1) Align prices with their respective events\n",
        "    events_ = triple_barrier_events.dropna(subset=['t1'])\n",
        "    prices = events_.index.union(events_['t1'].values)\n",
        "    prices = prices.drop_duplicates()\n",
        "    prices = close.reindex(prices, method='bfill')\n",
        "    \n",
        "    # 2) Create out DataFrame\n",
        "    out_df = pd.DataFrame(index=events_.index)\n",
        "    # Need to take the log returns, else your results will be skewed for short positions\n",
        "    out_df['ret'] = np.log(prices.loc[events_['t1'].values].values) - np.log(prices.loc[events_.index])\n",
        "    out_df['trgt'] = events_['trgt']\n",
        "\n",
        "    # Meta labeling: Events that were correct will have pos returns\n",
        "    if 'side' in events_:\n",
        "        out_df['ret'] = out_df['ret'] * events_['side']  # meta-labeling\n",
        "\n",
        "    # Added code: label 0 when vertical barrier reached\n",
        "    out_df = barrier_touched(out_df)\n",
        "\n",
        "    # Meta labeling: label incorrect events with a 0\n",
        "    if 'side' in events_:\n",
        "        out_df.loc[out_df['ret'] <= 0, 'bin'] = 0\n",
        "    \n",
        "    # Transform the log returns back to normal returns.\n",
        "    out_df['ret'] = np.exp(out_df['ret']) - 1\n",
        "    \n",
        "    # Add the side to the output. This is useful for when a meta label model must be fit\n",
        "    tb_cols = triple_barrier_events.columns\n",
        "    if 'side' in tb_cols:\n",
        "        out_df['side'] = triple_barrier_events['side']\n",
        "        \n",
        "    out_df\n",
        "\n",
        "    return out_df"
      ],
      "execution_count": 85,
      "outputs": []
    },
    {
      "cell_type": "code",
      "metadata": {
        "id": "hu4YussRQ7XJ"
      },
      "source": [
        "def bbands(close_prices, window, no_of_stdev):\n",
        "    \n",
        "    rolling_mean = close_prices.ewm(span=window).mean()\n",
        "    rolling_std = close_prices.ewm(span=window).std()\n",
        "\n",
        "    upper_band = rolling_mean + (rolling_std * no_of_stdev)\n",
        "    lower_band = rolling_mean - (rolling_std * no_of_stdev)\n",
        "\n",
        "    return rolling_mean, upper_band, lower_band"
      ],
      "execution_count": 86,
      "outputs": []
    },
    {
      "cell_type": "markdown",
      "metadata": {
        "id": "lB-CuBIffyGf"
      },
      "source": [
        "# Implementation"
      ]
    },
    {
      "cell_type": "markdown",
      "metadata": {
        "id": "jrExdiM6YZU9"
      },
      "source": [
        "Import and Format Data"
      ]
    },
    {
      "cell_type": "code",
      "metadata": {
        "id": "lsgvIUx7jW82"
      },
      "source": [
        "%%capture\n",
        "pip install yfinance"
      ],
      "execution_count": 87,
      "outputs": []
    },
    {
      "cell_type": "code",
      "metadata": {
        "id": "PYZBCe69jfJH"
      },
      "source": [
        "import yfinance as yf"
      ],
      "execution_count": 88,
      "outputs": []
    },
    {
      "cell_type": "code",
      "metadata": {
        "id": "ZTJ6rY1EjStR",
        "colab": {
          "base_uri": "https://localhost:8080/"
        },
        "outputId": "9197bc0e-a143-47a7-9ca9-a8c15eb44b1b"
      },
      "source": [
        "def get_data(symbols, begin_date=None,end_date=None):\n",
        "    df = yf.download('AAPL', start = begin_date,\n",
        "                     auto_adjust=True,#only download adjusted data\n",
        "                     end= end_date) \n",
        "    #my convention: always lowercase\n",
        "    df.columns = ['open','high','low',\n",
        "                  'close','volume'] \n",
        "    \n",
        "    return df\n",
        "\n",
        "Apple_stock = get_data('AAPL', '1999-12-31', '2021-10-20')   \n",
        "data = Apple_stock"
      ],
      "execution_count": 89,
      "outputs": [
        {
          "output_type": "stream",
          "name": "stdout",
          "text": [
            "\r[*********************100%***********************]  1 of 1 completed\n"
          ]
        }
      ]
    },
    {
      "cell_type": "markdown",
      "metadata": {
        "id": "kddXsl0v6ZIj"
      },
      "source": [
        "# Primary Model\n",
        "# **Bollinger Bands**"
      ]
    },
    {
      "cell_type": "markdown",
      "metadata": {
        "id": "6xoxuSywYc0r"
      },
      "source": [
        "Create Primary Bollinger Band Model"
      ]
    },
    {
      "cell_type": "code",
      "metadata": {
        "colab": {
          "base_uri": "https://localhost:8080/"
        },
        "id": "VQUBffSDY1YF",
        "outputId": "7d9eed0f-7342-4090-beda-193efdc81ede"
      },
      "source": [
        "# compute bands\n",
        "window = 20\n",
        "data['avg'], data['upper'], data['lower'] = bbands(data['close'],window, no_of_stdev=1.5)\n",
        "\n",
        "# compute sides\n",
        "data['side'] = np.nan\n",
        "long_signals = (data['close'] <= data['lower'])\n",
        "short_signals = (data['close'] >= data['upper'])\n",
        "data.loc[long_signals, 'side'] = 1\n",
        "data.loc[short_signals, 'side'] = -1\n",
        "\n",
        "print(data.side.value_counts())\n",
        "\n",
        "# Remove Look ahead biase by lagging the signal\n",
        "data['side'] = data['side'].shift(1)\n",
        "\n",
        "# Drop the NaN values from our data set\n",
        "data.dropna(axis=0, how='any', inplace=True)  "
      ],
      "execution_count": 90,
      "outputs": [
        {
          "output_type": "stream",
          "name": "stdout",
          "text": [
            "-1.0    243\n",
            " 1.0    128\n",
            "Name: side, dtype: int64\n"
          ]
        }
      ]
    },
    {
      "cell_type": "markdown",
      "metadata": {
        "id": "f4nxfl1mY5ww"
      },
      "source": [
        "## Implementing Triple Barriers"
      ]
    },
    {
      "cell_type": "code",
      "metadata": {
        "colab": {
          "base_uri": "https://localhost:8080/"
        },
        "id": "o6DgofNjYzky",
        "outputId": "374f3e63-950b-4bdb-b91c-b36839c5c1ac"
      },
      "source": [
        "close = data['close']\n",
        "\n",
        "# determining daily volatility using the last 50 days\n",
        "daily_vol = get_daily_vol(close=close, lookback=50)\n",
        "\n",
        "# creating our event triggers using the CUSUM filter \n",
        "cusum_events = get_t_events(close, threshold=daily_vol.mean()*0.1)\n",
        "\n",
        "# adding vertical barriers with a half day expiration window\n",
        "vertical_barriers = add_vertical_barrier(t_events=cusum_events,\n",
        "                                         close=close, num_days=5)\n",
        "\n",
        "# determining timestamps of first touch   \n",
        "\n",
        "pt_sl = [2, 2] # setting profit-take and stop-loss at 1% and 2%\n",
        "min_ret = 0.0005 # setting a minimum return of 0.05%\n",
        "\n",
        "triple_barrier_events = get_events(close=close,\n",
        "                                  t_events=cusum_events,\n",
        "                                  pt_sl=pt_sl,\n",
        "                                  target=daily_vol,\n",
        "                                  min_ret=min_ret,\n",
        "                                  num_threads=2,\n",
        "                                  vertical_barrier_times=vertical_barriers,\n",
        "                                  side=data['side'])"
      ],
      "execution_count": 91,
      "outputs": [
        {
          "output_type": "stream",
          "name": "stdout",
          "text": [
            "Calculating daily volatility for dynamic thresholds\n",
            "Applying Symmetric CUSUM filter.\n"
          ]
        },
        {
          "output_type": "stream",
          "name": "stderr",
          "text": [
            "100%|██████████| 369/369 [00:00<00:00, 15425.77it/s]\n",
            "2021-10-22 03:13:18.056377 100.0% apply_pt_sl_on_t1 done after 0.01 minutes. Remaining 0.0 minutes.\n"
          ]
        }
      ]
    },
    {
      "cell_type": "markdown",
      "metadata": {
        "id": "a2IQeQ_kQ1kh"
      },
      "source": [
        "Add Labels"
      ]
    },
    {
      "cell_type": "code",
      "metadata": {
        "colab": {
          "base_uri": "https://localhost:8080/"
        },
        "id": "LWMSJt9VZBJa",
        "outputId": "07c118fb-aba5-4cbc-b357-822c091fc7c8"
      },
      "source": [
        "labels = get_bins(triple_barrier_events, data['close'])\n",
        "labels.side.value_counts()  "
      ],
      "execution_count": 92,
      "outputs": [
        {
          "output_type": "execute_result",
          "data": {
            "text/plain": [
              "-1.0    182\n",
              " 1.0    105\n",
              "Name: side, dtype: int64"
            ]
          },
          "metadata": {},
          "execution_count": 92
        }
      ]
    },
    {
      "cell_type": "code",
      "metadata": {
        "id": "pLkUok2--k98",
        "colab": {
          "base_uri": "https://localhost:8080/",
          "height": 204
        },
        "outputId": "a30a726e-5677-44e6-832f-39d82109f998"
      },
      "source": [
        "labels.head()"
      ],
      "execution_count": 93,
      "outputs": [
        {
          "output_type": "execute_result",
          "data": {
            "text/html": [
              "<div>\n",
              "<style scoped>\n",
              "    .dataframe tbody tr th:only-of-type {\n",
              "        vertical-align: middle;\n",
              "    }\n",
              "\n",
              "    .dataframe tbody tr th {\n",
              "        vertical-align: top;\n",
              "    }\n",
              "\n",
              "    .dataframe thead th {\n",
              "        text-align: right;\n",
              "    }\n",
              "</style>\n",
              "<table border=\"1\" class=\"dataframe\">\n",
              "  <thead>\n",
              "    <tr style=\"text-align: right;\">\n",
              "      <th></th>\n",
              "      <th>ret</th>\n",
              "      <th>trgt</th>\n",
              "      <th>bin</th>\n",
              "      <th>side</th>\n",
              "    </tr>\n",
              "  </thead>\n",
              "  <tbody>\n",
              "    <tr>\n",
              "      <th>2000-03-22</th>\n",
              "      <td>0.266886</td>\n",
              "      <td>0.060705</td>\n",
              "      <td>1</td>\n",
              "      <td>-1.0</td>\n",
              "    </tr>\n",
              "    <tr>\n",
              "      <th>2000-03-23</th>\n",
              "      <td>0.241626</td>\n",
              "      <td>0.043841</td>\n",
              "      <td>1</td>\n",
              "      <td>-1.0</td>\n",
              "    </tr>\n",
              "    <tr>\n",
              "      <th>2000-04-13</th>\n",
              "      <td>-0.127402</td>\n",
              "      <td>0.177358</td>\n",
              "      <td>0</td>\n",
              "      <td>1.0</td>\n",
              "    </tr>\n",
              "    <tr>\n",
              "      <th>2000-05-10</th>\n",
              "      <td>0.082441</td>\n",
              "      <td>0.173879</td>\n",
              "      <td>0</td>\n",
              "      <td>1.0</td>\n",
              "    </tr>\n",
              "    <tr>\n",
              "      <th>2000-05-11</th>\n",
              "      <td>0.045592</td>\n",
              "      <td>0.161208</td>\n",
              "      <td>0</td>\n",
              "      <td>1.0</td>\n",
              "    </tr>\n",
              "  </tbody>\n",
              "</table>\n",
              "</div>"
            ],
            "text/plain": [
              "                 ret      trgt  bin  side\n",
              "2000-03-22  0.266886  0.060705    1  -1.0\n",
              "2000-03-23  0.241626  0.043841    1  -1.0\n",
              "2000-04-13 -0.127402  0.177358    0   1.0\n",
              "2000-05-10  0.082441  0.173879    0   1.0\n",
              "2000-05-11  0.045592  0.161208    0   1.0"
            ]
          },
          "metadata": {},
          "execution_count": 93
        }
      ]
    },
    {
      "cell_type": "markdown",
      "metadata": {
        "id": "XrxoOuyTQ3V8"
      },
      "source": [
        "# Evaluating Primary Model"
      ]
    },
    {
      "cell_type": "code",
      "metadata": {
        "colab": {
          "base_uri": "https://localhost:8080/"
        },
        "id": "z3VDEJJMZV1t",
        "outputId": "5e5aea5c-adef-432c-c266-f83bf8071678"
      },
      "source": [
        "# creating dataframe of only bin labels\n",
        "primary_forecast = pd.DataFrame(labels['bin'])\n",
        "\n",
        "# setting predicted column to 1 \n",
        "primary_forecast['pred'] = 1\n",
        "primary_forecast.columns = ['actual', 'pred']\n",
        "\n",
        "# Performance Metrics\n",
        "actual = primary_forecast['actual']\n",
        "pred = primary_forecast['pred']\n",
        "print(classification_report(y_true=actual, y_pred=pred))\n",
        "\n",
        "print(\"Confusion Matrix\")\n",
        "print(confusion_matrix(actual, pred))\n",
        "\n",
        "print('')\n",
        "print(\"Accuracy\")\n",
        "print(accuracy_score(actual, pred))"
      ],
      "execution_count": 94,
      "outputs": [
        {
          "output_type": "stream",
          "name": "stdout",
          "text": [
            "              precision    recall  f1-score   support\n",
            "\n",
            "           0       0.00      0.00      0.00       245\n",
            "           1       0.15      1.00      0.26        42\n",
            "\n",
            "    accuracy                           0.15       287\n",
            "   macro avg       0.07      0.50      0.13       287\n",
            "weighted avg       0.02      0.15      0.04       287\n",
            "\n",
            "Confusion Matrix\n",
            "[[  0 245]\n",
            " [  0  42]]\n",
            "\n",
            "Accuracy\n",
            "0.14634146341463414\n"
          ]
        }
      ]
    },
    {
      "cell_type": "markdown",
      "metadata": {
        "id": "UkrqcuNz1_Kk"
      },
      "source": [
        "\n",
        "\n",
        "---\n",
        "\n",
        "\n",
        "Upon evaluation of primary model we see that the accurace is 0.146 ie 14.6%.\n",
        "\n",
        "\n",
        "\n",
        "---\n",
        "\n"
      ]
    },
    {
      "cell_type": "code",
      "metadata": {
        "colab": {
          "base_uri": "https://localhost:8080/",
          "height": 419
        },
        "id": "_npquZde9-TZ",
        "outputId": "de08a076-ae74-430d-ac35-878412a25b40"
      },
      "source": [
        "primary_forecast = pd.DataFrame(labels['bin'])\n",
        "primary_forecast"
      ],
      "execution_count": 95,
      "outputs": [
        {
          "output_type": "execute_result",
          "data": {
            "text/html": [
              "<div>\n",
              "<style scoped>\n",
              "    .dataframe tbody tr th:only-of-type {\n",
              "        vertical-align: middle;\n",
              "    }\n",
              "\n",
              "    .dataframe tbody tr th {\n",
              "        vertical-align: top;\n",
              "    }\n",
              "\n",
              "    .dataframe thead th {\n",
              "        text-align: right;\n",
              "    }\n",
              "</style>\n",
              "<table border=\"1\" class=\"dataframe\">\n",
              "  <thead>\n",
              "    <tr style=\"text-align: right;\">\n",
              "      <th></th>\n",
              "      <th>bin</th>\n",
              "    </tr>\n",
              "  </thead>\n",
              "  <tbody>\n",
              "    <tr>\n",
              "      <th>2000-03-22</th>\n",
              "      <td>1</td>\n",
              "    </tr>\n",
              "    <tr>\n",
              "      <th>2000-03-23</th>\n",
              "      <td>1</td>\n",
              "    </tr>\n",
              "    <tr>\n",
              "      <th>2000-04-13</th>\n",
              "      <td>0</td>\n",
              "    </tr>\n",
              "    <tr>\n",
              "      <th>2000-05-10</th>\n",
              "      <td>0</td>\n",
              "    </tr>\n",
              "    <tr>\n",
              "      <th>2000-05-11</th>\n",
              "      <td>0</td>\n",
              "    </tr>\n",
              "    <tr>\n",
              "      <th>...</th>\n",
              "      <td>...</td>\n",
              "    </tr>\n",
              "    <tr>\n",
              "      <th>2021-06-23</th>\n",
              "      <td>0</td>\n",
              "    </tr>\n",
              "    <tr>\n",
              "      <th>2021-07-06</th>\n",
              "      <td>0</td>\n",
              "    </tr>\n",
              "    <tr>\n",
              "      <th>2021-07-07</th>\n",
              "      <td>0</td>\n",
              "    </tr>\n",
              "    <tr>\n",
              "      <th>2021-08-31</th>\n",
              "      <td>0</td>\n",
              "    </tr>\n",
              "    <tr>\n",
              "      <th>2021-09-08</th>\n",
              "      <td>0</td>\n",
              "    </tr>\n",
              "  </tbody>\n",
              "</table>\n",
              "<p>287 rows × 1 columns</p>\n",
              "</div>"
            ],
            "text/plain": [
              "            bin\n",
              "2000-03-22    1\n",
              "2000-03-23    1\n",
              "2000-04-13    0\n",
              "2000-05-10    0\n",
              "2000-05-11    0\n",
              "...         ...\n",
              "2021-06-23    0\n",
              "2021-07-06    0\n",
              "2021-07-07    0\n",
              "2021-08-31    0\n",
              "2021-09-08    0\n",
              "\n",
              "[287 rows x 1 columns]"
            ]
          },
          "metadata": {},
          "execution_count": 95
        }
      ]
    },
    {
      "cell_type": "markdown",
      "metadata": {
        "id": "KrWSVElfZh_P"
      },
      "source": [
        "# Creating Secondary Model\n",
        "# Random Forest"
      ]
    },
    {
      "cell_type": "code",
      "metadata": {
        "id": "u6y3nt6D8RN6",
        "colab": {
          "base_uri": "https://localhost:8080/"
        },
        "outputId": "bf1c1af2-35e8-4e36-e14e-7f28bcc28f00"
      },
      "source": [
        "# Get features at event dates\n",
        "X = data.loc[labels.index, :]\n",
        "y = labels['bin']\n",
        "\n",
        "# Split data\n",
        "X_train, X_test, y_train, y_test = train_test_split(X, y, test_size=0.2, shuffle=False)\n",
        "\n",
        "# Setting random forest parameters\n",
        "n_estimator = 100\n",
        "depth = 2\n",
        "RANDOM_STATE = 0\n",
        "\n",
        "rf = RandomForestClassifier(max_depth=depth, n_estimators=n_estimator,\n",
        "                            criterion='entropy', class_weight='balanced_subsample',\n",
        "                            random_state=RANDOM_STATE)\n",
        "\n",
        "# Fitting our model\n",
        "rf.fit(X_train, y_train)"
      ],
      "execution_count": 96,
      "outputs": [
        {
          "output_type": "execute_result",
          "data": {
            "text/plain": [
              "RandomForestClassifier(bootstrap=True, ccp_alpha=0.0,\n",
              "                       class_weight='balanced_subsample', criterion='entropy',\n",
              "                       max_depth=2, max_features='auto', max_leaf_nodes=None,\n",
              "                       max_samples=None, min_impurity_decrease=0.0,\n",
              "                       min_impurity_split=None, min_samples_leaf=1,\n",
              "                       min_samples_split=2, min_weight_fraction_leaf=0.0,\n",
              "                       n_estimators=100, n_jobs=None, oob_score=False,\n",
              "                       random_state=0, verbose=0, warm_start=False)"
            ]
          },
          "metadata": {},
          "execution_count": 96
        }
      ]
    },
    {
      "cell_type": "markdown",
      "metadata": {
        "id": "_c0rScbEQ8j5"
      },
      "source": [
        "# Evaluating Secondary Model ***Training*** Performance"
      ]
    },
    {
      "cell_type": "code",
      "metadata": {
        "colab": {
          "base_uri": "https://localhost:8080/",
          "height": 731
        },
        "id": "lOXJqV2JZspp",
        "outputId": "f20c74f8-7571-4385-98d3-ac011872c5f9"
      },
      "source": [
        "# Performance Metrics\n",
        "y_pred_rf = rf.predict_proba(X_train)[:, 1]\n",
        "y_pred = rf.predict(X_train)\n",
        "fpr_rf, tpr_rf, _ = roc_curve(y_train, y_pred_rf)\n",
        "print(classification_report(y_train, y_pred))\n",
        "\n",
        "print(\"Confusion Matrix\")\n",
        "print(confusion_matrix(y_train, y_pred))\n",
        "\n",
        "print('')\n",
        "print(\"Accuracy\")\n",
        "print(accuracy_score(y_train, y_pred))\n",
        "\n",
        "plt.figure(1)\n",
        "plt.plot([0, 1], [0, 1], 'k--')\n",
        "plt.plot(fpr_rf, tpr_rf, label='RF')\n",
        "plt.xlabel('False positive rate')\n",
        "plt.ylabel('True positive rate')\n",
        "plt.title('ROC curve')\n",
        "plt.legend(loc='best')\n",
        "plt.show()"
      ],
      "execution_count": 97,
      "outputs": [
        {
          "output_type": "stream",
          "name": "stdout",
          "text": [
            "              precision    recall  f1-score   support\n",
            "\n",
            "           0       0.93      0.90      0.92       199\n",
            "           1       0.46      0.57      0.51        30\n",
            "\n",
            "    accuracy                           0.86       229\n",
            "   macro avg       0.70      0.73      0.71       229\n",
            "weighted avg       0.87      0.86      0.86       229\n",
            "\n",
            "Confusion Matrix\n",
            "[[179  20]\n",
            " [ 13  17]]\n",
            "\n",
            "Accuracy\n",
            "0.8558951965065502\n"
          ]
        },
        {
          "output_type": "display_data",
          "data": {
            "image/png": "[encoded data removed]",
            "text/plain": [
              "<Figure size 748.8x514.8 with 1 Axes>"
            ]
          },
          "metadata": {
            "needs_background": "light"
          }
        }
      ]
    },
    {
      "cell_type": "markdown",
      "metadata": {
        "id": "M8Ax6AHXQ_51"
      },
      "source": [
        "# Evaluating Secondary Model ***Testing*** Performance"
      ]
    },
    {
      "cell_type": "code",
      "metadata": {
        "colab": {
          "base_uri": "https://localhost:8080/",
          "height": 731
        },
        "id": "F9UbXoGvZvFL",
        "outputId": "e3f6989d-2bd6-4b86-d820-37b462b33811"
      },
      "source": [
        "# Performance Metrics\n",
        "y_pred_rf = rf.predict_proba(X_test)[:, 1]\n",
        "y_pred = rf.predict(X_test)\n",
        "fpr_rf, tpr_rf, _ = roc_curve(y_test, y_pred_rf)\n",
        "print(classification_report(y_test, y_pred))\n",
        "\n",
        "print(\"Confusion Matrix\")\n",
        "print(confusion_matrix(y_test, y_pred))\n",
        "\n",
        "print('')\n",
        "print(\"Accuracy\")\n",
        "print(accuracy_score(y_test, y_pred))\n",
        "\n",
        "plt.figure(1)\n",
        "plt.plot([0, 1], [0, 1], 'k--')\n",
        "plt.plot(fpr_rf, tpr_rf, label='RF')\n",
        "plt.xlabel('False positive rate')\n",
        "plt.ylabel('True positive rate')\n",
        "plt.title('ROC curve')\n",
        "plt.legend(loc='best')\n",
        "plt.show()"
      ],
      "execution_count": 98,
      "outputs": [
        {
          "output_type": "stream",
          "name": "stdout",
          "text": [
            "              precision    recall  f1-score   support\n",
            "\n",
            "           0       0.83      0.96      0.89        46\n",
            "           1       0.60      0.25      0.35        12\n",
            "\n",
            "    accuracy                           0.81        58\n",
            "   macro avg       0.72      0.60      0.62        58\n",
            "weighted avg       0.78      0.81      0.78        58\n",
            "\n",
            "Confusion Matrix\n",
            "[[44  2]\n",
            " [ 9  3]]\n",
            "\n",
            "Accuracy\n",
            "0.8103448275862069\n"
          ]
        },
        {
          "output_type": "display_data",
          "data": {
            "image/png": "[encoded data removed]",
            "text/plain": [
              "<Figure size 748.8x514.8 with 1 Axes>"
            ]
          },
          "metadata": {
            "needs_background": "light"
          }
        }
      ]
    },
    {
      "cell_type": "markdown",
      "metadata": {
        "id": "2t2ojD770VfY"
      },
      "source": [
        "\n",
        "\n",
        "---\n",
        "Upon using metalabelling our accuracy now has jumped to 0.81 or 81% from 14.6% (initially in primary model)\n",
        "\n",
        "\n",
        "---\n",
        "\n",
        "\n"
      ]
    },
    {
      "cell_type": "markdown",
      "metadata": {
        "id": "iJTPqZCP9KYO"
      },
      "source": [
        "# *The speciality of using meta-labelling is that we can build an initial model that will maximizes recall, even if it have many false positives, and then incorporate a second model that filters out the false positives to enhance our precision score.*"
      ]
    },
    {
      "cell_type": "code",
      "metadata": {
        "id": "wP40jEFvytF8",
        "colab": {
          "base_uri": "https://localhost:8080/",
          "height": 419
        },
        "outputId": "e6e7eac3-a9e6-4d8a-c39f-acccfbb380e2"
      },
      "source": [
        "labels"
      ],
      "execution_count": 99,
      "outputs": [
        {
          "output_type": "execute_result",
          "data": {
            "text/html": [
              "<div>\n",
              "<style scoped>\n",
              "    .dataframe tbody tr th:only-of-type {\n",
              "        vertical-align: middle;\n",
              "    }\n",
              "\n",
              "    .dataframe tbody tr th {\n",
              "        vertical-align: top;\n",
              "    }\n",
              "\n",
              "    .dataframe thead th {\n",
              "        text-align: right;\n",
              "    }\n",
              "</style>\n",
              "<table border=\"1\" class=\"dataframe\">\n",
              "  <thead>\n",
              "    <tr style=\"text-align: right;\">\n",
              "      <th></th>\n",
              "      <th>ret</th>\n",
              "      <th>trgt</th>\n",
              "      <th>bin</th>\n",
              "      <th>side</th>\n",
              "    </tr>\n",
              "  </thead>\n",
              "  <tbody>\n",
              "    <tr>\n",
              "      <th>2000-03-22</th>\n",
              "      <td>0.266886</td>\n",
              "      <td>0.060705</td>\n",
              "      <td>1</td>\n",
              "      <td>-1.0</td>\n",
              "    </tr>\n",
              "    <tr>\n",
              "      <th>2000-03-23</th>\n",
              "      <td>0.241626</td>\n",
              "      <td>0.043841</td>\n",
              "      <td>1</td>\n",
              "      <td>-1.0</td>\n",
              "    </tr>\n",
              "    <tr>\n",
              "      <th>2000-04-13</th>\n",
              "      <td>-0.127402</td>\n",
              "      <td>0.177358</td>\n",
              "      <td>0</td>\n",
              "      <td>1.0</td>\n",
              "    </tr>\n",
              "    <tr>\n",
              "      <th>2000-05-10</th>\n",
              "      <td>0.082441</td>\n",
              "      <td>0.173879</td>\n",
              "      <td>0</td>\n",
              "      <td>1.0</td>\n",
              "    </tr>\n",
              "    <tr>\n",
              "      <th>2000-05-11</th>\n",
              "      <td>0.045592</td>\n",
              "      <td>0.161208</td>\n",
              "      <td>0</td>\n",
              "      <td>1.0</td>\n",
              "    </tr>\n",
              "    <tr>\n",
              "      <th>...</th>\n",
              "      <td>...</td>\n",
              "      <td>...</td>\n",
              "      <td>...</td>\n",
              "      <td>...</td>\n",
              "    </tr>\n",
              "    <tr>\n",
              "      <th>2021-06-23</th>\n",
              "      <td>-0.058583</td>\n",
              "      <td>0.096060</td>\n",
              "      <td>0</td>\n",
              "      <td>-1.0</td>\n",
              "    </tr>\n",
              "    <tr>\n",
              "      <th>2021-07-06</th>\n",
              "      <td>-0.066011</td>\n",
              "      <td>0.094317</td>\n",
              "      <td>0</td>\n",
              "      <td>-1.0</td>\n",
              "    </tr>\n",
              "    <tr>\n",
              "      <th>2021-07-07</th>\n",
              "      <td>-0.049241</td>\n",
              "      <td>0.092886</td>\n",
              "      <td>0</td>\n",
              "      <td>-1.0</td>\n",
              "    </tr>\n",
              "    <tr>\n",
              "      <th>2021-08-31</th>\n",
              "      <td>-0.021146</td>\n",
              "      <td>0.089552</td>\n",
              "      <td>0</td>\n",
              "      <td>-1.0</td>\n",
              "    </tr>\n",
              "    <tr>\n",
              "      <th>2021-09-08</th>\n",
              "      <td>0.081434</td>\n",
              "      <td>0.087831</td>\n",
              "      <td>0</td>\n",
              "      <td>-1.0</td>\n",
              "    </tr>\n",
              "  </tbody>\n",
              "</table>\n",
              "<p>287 rows × 4 columns</p>\n",
              "</div>"
            ],
            "text/plain": [
              "                 ret      trgt  bin  side\n",
              "2000-03-22  0.266886  0.060705    1  -1.0\n",
              "2000-03-23  0.241626  0.043841    1  -1.0\n",
              "2000-04-13 -0.127402  0.177358    0   1.0\n",
              "2000-05-10  0.082441  0.173879    0   1.0\n",
              "2000-05-11  0.045592  0.161208    0   1.0\n",
              "...              ...       ...  ...   ...\n",
              "2021-06-23 -0.058583  0.096060    0  -1.0\n",
              "2021-07-06 -0.066011  0.094317    0  -1.0\n",
              "2021-07-07 -0.049241  0.092886    0  -1.0\n",
              "2021-08-31 -0.021146  0.089552    0  -1.0\n",
              "2021-09-08  0.081434  0.087831    0  -1.0\n",
              "\n",
              "[287 rows x 4 columns]"
            ]
          },
          "metadata": {},
          "execution_count": 99
        }
      ]
    },
    {
      "cell_type": "code",
      "metadata": {
        "id": "R7YVELWz8LSu"
      },
      "source": [
        "labels.to_csv('labels.csv')"
      ],
      "execution_count": 100,
      "outputs": []
    }
  ]
}